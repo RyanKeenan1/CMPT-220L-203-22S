{
 "cells": [
  {
   "cell_type": "markdown",
   "metadata": {},
   "source": [
    "# Software Development 1\n",
    "---\n",
    "Topics for today will include:\n",
    "- Syllabus\n",
    "- Welcome to CMPT 220\n",
    "- What's So Different?\n",
    "    - Language Types\n",
    "    - Different Languages for Different Problems\n",
    "    - High Level vs Low Level\n",
    "- Let's Be Honest...\n",
    "    - Favorite Languages\n",
    "    - Programming Styles\n",
    "- Why Java?\n",
    "    - JVM\n",
    "    - Object Oriented Language\n",
    "- IDEs\n",
    "- Hello World!\n",
    "\n",
    "\n",
    "## Welcome to CMPT 220!\n",
    "---\n",
    "\n",
    "In this course I'll be teaching you introductory Java and eventually some upper level and more advanced topics related to the language. \n",
    "\n",
    "For this course lesson notes will primarily be hosted using [Jupyter Notebooks](https://jupyter.org/index.html). I'm going to expect you to be able to grasp the concepts that we'll discuss centered around them and how they work. There will be some work that needs to be done on your part since we're using a different kernel than the native one. We'll also talk about what a kernel is later! Here is the [IJava Kernel](https://github.com/SpencerPark/IJava) we're going to need this semester!\n",
    "\n",
    "With Jupyter Notebooks we can:\n",
    "- Have notes for each lesson. \n",
    "- Have a place where we can see how code executes.\n",
    "- Have an interactive space for students to be able to rerun things seen in lessons.\n",
    "\n",
    "I encourage you to get familiar with using the Jupyter Notebooks because they make an amazing playground for trying things out! Our labs will also be primarily in the Jupyter Notebooks."
   ]
  },
  {
   "cell_type": "code",
   "execution_count": 2,
   "metadata": {},
   "outputs": [
    {
     "name": "stdout",
     "output_type": "stream",
     "text": [
      "Welcome to Soft Dev 1! I hope you're not bored!\n",
      "Hope you have a great time!\n"
     ]
    }
   ],
   "source": [
    "System.out.println(\"Welcome to Soft Dev 1! I hope you're not bored!\");\n",
    "System.out.println(\"Hope you have a great time!\");"
   ]
  },
  {
   "cell_type": "markdown",
   "metadata": {},
   "source": [
    "## Let's Be Honest\n",
    "---\n",
    "I personally am not the biggest fan of Java BUT I know why it's useful and great. Personally I tend to like languages like Python more and do things over there more but the important thing that I want to get across with this is that you'll have your favorites. You'll have your dislikes. The most important thing that I want you to remember and pay attention to is that feeling. As you go through your career as a Computer Scientist you'll be faced with job roles and opportunities that are in disiplines that you like and dislike and it's important to know what you like and dislike. \n",
    "\n",
    "On the flipside!!! Be open to doing it! Using it. Knowing why it's good at what it does. Knowing Java makes me a better overall programmer and lets me do things like this and teach you guys!\n",
    "\n",
    "Stylistically what we're aiming for as a sub goal with this class is forming your identity as a programmer. Do you like High Level work more than this? Do you love Low Level programming. One thing that I see a lot are students that have no idea what they like when it comes time for **Cough Cough*\\* getting internships(Start early! They pay well!!!) and interviewing for full time positions.\n",
    "\n",
    "Learning a bunch of different programming styles and methodologies is super helpful because as you get better and better the concepts start to bleed into one another and you'll be able to do things you've never imagined with ease."
   ]
  },
  {
   "cell_type": "markdown",
   "metadata": {},
   "source": [
    "## Why Java?\n",
    "So let's talk a little about why Java is a thing in the first place. Java is a language used everywhere and by everyone. This is mostly because of something called the JVM. So if you've never heard of the JVM or even a VM, don't worry! First JVM stands for Java Virtual Machine, and VM stands for as you can probably guess Virtual Machine. Now a Virtual Machine does it's best to take from a pool of hardware resources and make a virtualized version of a computer. Now the JVM does something similar but instead of being an instance of a computer, it's a runtime enviornment capable of running Java code and applications. Why this is important is that Java or Oracle and OpenJDK make the JVM runnable on all types of machines for the most part. So the hardware doesn't specifically need to know how to run the code. You'd just run it inside of the JVM.\n",
    "\n",
    "Nowadays that's not that impressive. When Java first came about however, this was miracaulous. This made bringing Java to different platforms a lot easier than it was for other languages. This is long before the days of package installers and easily accessible executables. \n",
    "\n",
    "In addition to being extremely portable it was an improvement on C++ or what was planned to be at least. Back then you really had to understand everything about a computer to be able to program. How to access memory. Making sure you didn't accidentally write over memory in use. Keeping programs slim and efficent. These things were difficult to grasp. Java aimed to make it a little simpler to understand than C++. Object Oriented Programming is the style that they both implement and is important to understand entering the realm of lower level programming.\n"
   ]
  },
  {
   "cell_type": "markdown",
   "metadata": {},
   "source": [
    "## IDEs\n",
    "This will be quick. IDE stands for Integrated Development Environment. In laymen's terms it's an editor that houses a bunch of tools that you may need to develop. Unlike a VS Code where out of the box it's very lightweight, IDEs come with tools. \n",
    "\n",
    "I'm not fond of many IDEs. The one that I DO like is [IntelliJ](https://www.jetbrains.com/idea/). They just have a clean IDE and it doesn't feel clunky to me. I mostly use [VS Code](https://code.visualstudio.com) to edit things. This isn't an IDE but can be used in a similar way with certain plugins added to it. \n",
    "\n",
    "*IMPORTANT! FOR THIS CLASS YOU'RE GOING TO NEED THE INSIDER EDITION OF VS CODE FOR THE JUPYTER NOTEBOOKS! THAT CAN BE FOUND [HERE](https://code.visualstudio.com/insiders/)*\n",
    "\n",
    "The reason for this section is that these are the 2 that I use and will know the best when it comes to questions. I believe that you should do your own due dilligence though and form your own opinions. \n",
    "\n",
    "Two other IDEs that i've had to use in the past are (Not the biggest fan of either)\n",
    "- [Eclipse](https://www.eclipse.org/downloads/)\n",
    "- [NetBeans](https://netbeans.org)\n",
    "\n",
    "Some other text editors I've used (I LOVE ATOM <3 ^_^)\n",
    "- [Atom](https://atom.io)\n",
    "- [Notepad++](https://notepad-plus-plus.org/downloads/)"
   ]
  },
  {
   "cell_type": "markdown",
   "metadata": {},
   "source": [
    "## Hello World"
   ]
  },
  {
   "cell_type": "code",
   "execution_count": 2,
   "metadata": {},
   "outputs": [
    {
     "name": "stdout",
     "output_type": "stream",
     "text": [
      "Hello there!\n"
     ]
    }
   ],
   "source": [
    "System.out.println(\"Hello there!\");"
   ]
  }
 ],
 "metadata": {
  "interpreter": {
   "hash": "31f2aee4e71d21fbe5cf8b01ff0e069b9275f58929596ceb00d14d90e3e16cd6"
  },
  "kernelspec": {
   "display_name": "Java",
   "language": "java",
   "name": "java"
  },
  "language_info": {
   "codemirror_mode": "java",
   "file_extension": ".jshell",
   "mimetype": "text/x-java-source",
   "name": "java",
   "pygments_lexer": "java",
   "version": "17.0.2+8-LTS-86"
  },
  "orig_nbformat": 2
 },
 "nbformat": 4,
 "nbformat_minor": 2
}
